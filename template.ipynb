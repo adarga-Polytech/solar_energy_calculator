{
 "metadata": {
  "kernelspec": {
   "display_name": "Python 2",
   "language": "python",
   "name": "python2"
  },
  "language_info": {
   "codemirror_mode": {
    "name": "ipython",
    "version": 2
   },
   "file_extension": ".py",
   "mimetype": "text/x-python",
   "name": "python",
   "nbconvert_exporter": "python",
   "pygments_lexer": "ipython2",
   "version": "2.7.11"
  },
  "name": "",
  "signature": "sha256:5f18ef6c36b82257c93a0fb576bff6002c07bbd10adca06353a7d4de2ef3a7e4"
 },
 "nbformat": 3,
 "nbformat_minor": 0,
 "worksheets": [
  {
   "cells": [
    {
     "cell_type": "code",
     "collapsed": false,
     "input": [
      "# first, make the necessary imports\n",
      "import warnings\n",
      "warnings.filterwarnings(\"ignore\")\n",
      "\n",
      "from openmdao.api import Problem\n",
      "from lib.basic import Basic\n",
      "from lib.make_plot import make_plot\n",
      "import pylab\n",
      "%matplotlib inline\n",
      "\n",
      "# now set up our model\n",
      "top = Problem()\n",
      "top.root = Basic()\n",
      "top.setup(check=False)\n",
      "top.root.data.nrel_api_key = \"DEMO_KEY\""
     ],
     "language": "python",
     "metadata": {},
     "outputs": []
    },
    {
     "cell_type": "markdown",
     "metadata": {},
     "source": [
      "Model parameters\n",
      "------------------\n",
      "\n",
      "Below are an example of parameters that can be modified for a particular run.\n",
      "\n",
      "You can run this block to quickly reset all default values."
     ]
    },
    {
     "cell_type": "code",
     "collapsed": false,
     "input": [
      "# location query string (uses Google geolocation services)\n",
      "top.root.data.location = \"44256\"\n",
      "\n",
      "# cutt-off times for PV power due to shading (default: no cut-off (0, 23))\n",
      "top.root.data.start_time = 0\n",
      "top.root.data.end_time = 23\n",
      "\n",
      "\"\"\"\n",
      "LOAD SPECIFICATION\n",
      "\"\"\"\n",
      "# constant background power load (Watt)\n",
      "top['loads.P_constant'] = 0.0\n",
      "# night time only power load (Watt)\n",
      "top['loads.P_daytime'] = 0.0\n",
      "# day time only power load (Watt)\n",
      "top['loads.P_nighttime'] = 0.0\n",
      "# direct PV power load (Watt)\n",
      "top['loads.P_direct'] = 0.0\n",
      "# min. temp for direct PV power load (deg. F)\n",
      "top['loads.switch_temp'] = -1e99\n",
      "\n",
      "\"\"\"\n",
      "SYSTEM SPECIFICATION\n",
      "\"\"\"\n",
      "\n",
      "# Solar array types:\n",
      "# 0 = Fixed - Open Rack (default)\n",
      "# 1 = Fixed - Roof Mounted\n",
      "# 2 = Tracking 1-Axis \n",
      "# 3 = Tracking 1-Axis Backtracking\n",
      "# 4 = Tracking 2-Axis\n",
      "\n",
      "top.root.data.array_type = 0\n",
      "# Tilt of solar array (degrees, 0 = flat horizontal, 90 = vertical, default : 20)\n",
      "top['data.array_tilt'] = 20\n",
      "# General system losses (percentage of DC energy, default: 14)\n",
      "top['data.losses'] = 14\n",
      "# Rated power of solar array (Watt)\n",
      "top['des_vars.array_power'] = 0 \n",
      "# Battery power capacity (Watt-hr)\n",
      "top['des_vars.power_capacity'] = 0 # Watt-hours\n",
      "\n",
      "top.run()\n",
      "\n",
      "fig = make_plot(top)"
     ],
     "language": "python",
     "metadata": {},
     "outputs": []
    },
    {
     "cell_type": "code",
     "collapsed": false,
     "input": [],
     "language": "python",
     "metadata": {},
     "outputs": []
    }
   ],
   "metadata": {}
  }
 ]
}